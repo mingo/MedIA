{
 "cells": [
  {
   "cell_type": "markdown",
   "metadata": {},
   "source": [
    "## LSTM version, same data"
   ]
  },
  {
   "cell_type": "code",
   "execution_count": 1,
   "metadata": {
    "_cell_guid": "6c53202d-5c34-4859-e7e9-8ef5c7068287",
    "_uuid": "019ad1465ae8c5f7fa886c8cf60192110a815592"
   },
   "outputs": [
    {
     "name": "stderr",
     "output_type": "stream",
     "text": [
      "Using TensorFlow backend.\n"
     ]
    }
   ],
   "source": [
    "import numpy as np # linear algebra\n",
    "import pandas as pd # data processing, CSV file I/O (e.g. pd.read_csv)\n",
    "\n",
    "from sklearn.feature_extraction.text import CountVectorizer\n",
    "from keras.preprocessing.text import Tokenizer\n",
    "from keras.preprocessing.sequence import pad_sequences\n",
    "from keras.models import Sequential\n",
    "from keras.layers import Dense, Embedding, LSTM\n",
    "from sklearn.model_selection import train_test_split\n",
    "from keras.utils.np_utils import to_categorical\n",
    "import keras\n",
    "import re\n",
    "import tensorflow as tf"
   ]
  },
  {
   "cell_type": "code",
   "execution_count": 3,
   "metadata": {},
   "outputs": [
    {
     "name": "stdout",
     "output_type": "stream",
     "text": [
      "(2436, 7)\n",
      "(2436, 6)\n",
      "X Shape: (4872,)\n",
      "y shape: (4872, 1)\n"
     ]
    }
   ],
   "source": [
    "seed = 123\n",
    "\n",
    "negative_df = pd.read_csv(\"fakenews_big.csv\", dtype='str')\n",
    "# negative_df2 = pd.read_csv(\"fakenews_big2.csv\", dtype='str')\n",
    "\n",
    "positive_df = pd.read_csv(\"radiocanada.csv\", dtype='str')\n",
    "positive_df.columns = positive_df.ix[0]\n",
    "positive_df = positive_df[1:]\n",
    "positive_df = positive_df.sample(n=(negative_df.shape[0]), random_state=seed, axis=0)\n",
    "\n",
    "print(positive_df.shape)\n",
    "print(negative_df.shape)\n",
    "# print(negative_df2.shape)\n",
    "\n",
    "X_positive = positive_df[\"text\"]\n",
    "y_positive = pd.DataFrame(np.ones(positive_df.shape[0]))\n",
    "\n",
    "X_negative = negative_df[\"text\"]\n",
    "y_negative = pd.DataFrame(np.zeros(negative_df.shape[0]))\n",
    "\n",
    "# X_negative2 = negative_df2[\"text\"]\n",
    "# y_negative2 = pd.DataFrame(np.zeros(negative_df2.shape[0]))\n",
    "\n",
    "\n",
    "train_x = pd.concat([X_positive, X_negative], axis=0)\n",
    "train_y = pd.concat([y_positive, y_negative], axis=0)\n",
    "\n",
    "# train_x = train_x.as_matrix().astype('str')\n",
    "\n",
    "print(\"X Shape:\", train_x.shape)\n",
    "print(\"y shape:\", train_y.shape)"
   ]
  },
  {
   "cell_type": "code",
   "execution_count": 4,
   "metadata": {
    "_cell_guid": "43632d2d-6160-12ce-48b0-e5eb1c207076",
    "_uuid": "949270f37f901782e3597e286cb7bffcf7760b5f",
    "collapsed": true
   },
   "outputs": [],
   "source": [
    "train_x = train_x.astype('str')\n",
    "train_x = train_x.apply(lambda x: x.lower())\n",
    "train_x = train_x.apply((lambda x: re.sub('[^a-zA-z0-9\\s]','',x)))\n",
    "\n",
    "max_fatures = 2000\n",
    "tokenizer = Tokenizer(num_words=max_fatures, split=' ')\n",
    "tokenizer.fit_on_texts(train_x.values)\n",
    "X = tokenizer.texts_to_sequences(train_x.values)\n",
    "X = pad_sequences(X)"
   ]
  },
  {
   "cell_type": "code",
   "execution_count": 5,
   "metadata": {
    "_cell_guid": "1ba3cf60-a83c-9c21-05e0-b14303027e93",
    "_uuid": "867d22bcfe2faf0ae91971142d8bf347dcdb28ef"
   },
   "outputs": [
    {
     "name": "stdout",
     "output_type": "stream",
     "text": [
      "_________________________________________________________________\n",
      "Layer (type)                 Output Shape              Param #   \n",
      "=================================================================\n",
      "embedding_1 (Embedding)      (None, 4265, 128)         256000    \n",
      "_________________________________________________________________\n",
      "spatial_dropout1d_1 (Spatial (None, 4265, 128)         0         \n",
      "_________________________________________________________________\n",
      "lstm_1 (LSTM)                (None, 196)               254800    \n",
      "_________________________________________________________________\n",
      "dense_1 (Dense)              (None, 2)                 394       \n",
      "=================================================================\n",
      "Total params: 511,194\n",
      "Trainable params: 511,194\n",
      "Non-trainable params: 0\n",
      "_________________________________________________________________\n",
      "None\n"
     ]
    }
   ],
   "source": [
    "embed_dim = 128\n",
    "lstm_out = 196\n",
    "\n",
    "model = Sequential()\n",
    "model.add(Embedding(max_fatures, embed_dim,input_length = X.shape[1]))\n",
    "model.add(keras.layers.SpatialDropout1D(0.2))\n",
    "model.add(LSTM(lstm_out, recurrent_dropout=0.2, dropout=0.2))\n",
    "model.add(Dense(2,activation='softmax'))\n",
    "model.compile(loss = 'categorical_crossentropy', optimizer='adam',metrics = ['accuracy'])\n",
    "print(model.summary())"
   ]
  },
  {
   "cell_type": "code",
   "execution_count": 6,
   "metadata": {
    "_cell_guid": "b35748b8-2353-3db2-e571-5fd22bb93eb0",
    "_uuid": "59efed8a88e66401768bbcbbef94f86c86f29b1d"
   },
   "outputs": [
    {
     "name": "stdout",
     "output_type": "stream",
     "text": [
      "(4384, 4265) (4384, 2)\n",
      "(488, 4265) (488, 2)\n"
     ]
    }
   ],
   "source": [
    "Y = to_categorical(num_classes=2,y=train_y)\n",
    "X_train, X_test, Y_train, Y_test = train_test_split(X,Y, test_size = 0.1, random_state = 42)\n",
    "print(X_train.shape,Y_train.shape)\n",
    "print(X_test.shape,Y_test.shape)"
   ]
  },
  {
   "cell_type": "code",
   "execution_count": 7,
   "metadata": {
    "_cell_guid": "d5e499ac-2eba-6ff7-8d9a-ff65eb04099b",
    "_uuid": "e190cef28e8c075fab813be9a1a8a6a5120911dd"
   },
   "outputs": [
    {
     "name": "stdout",
     "output_type": "stream",
     "text": [
      "Train on 4384 samples, validate on 488 samples\n",
      "Epoch 1/7\n",
      "4384/4384 [==============================] - 1326s 303ms/step - loss: 0.7199 - acc: 0.6667 - val_loss: 0.4462 - val_acc: 0.8156\n",
      "Epoch 2/7\n",
      "4384/4384 [==============================] - 1326s 303ms/step - loss: 0.2092 - acc: 0.9304 - val_loss: 0.1345 - val_acc: 0.9467\n",
      "Epoch 3/7\n",
      "4384/4384 [==============================] - 1275s 291ms/step - loss: 0.1127 - acc: 0.9674 - val_loss: 0.1660 - val_acc: 0.9549\n",
      "Epoch 4/7\n",
      "4384/4384 [==============================] - 1274s 291ms/step - loss: 0.0690 - acc: 0.9797 - val_loss: 0.1214 - val_acc: 0.9652\n",
      "Epoch 5/7\n",
      "4384/4384 [==============================] - 1274s 291ms/step - loss: 0.0401 - acc: 0.9895 - val_loss: 0.1574 - val_acc: 0.9508\n",
      "Epoch 6/7\n",
      "4384/4384 [==============================] - 1280s 292ms/step - loss: 0.0359 - acc: 0.9906 - val_loss: 0.1522 - val_acc: 0.9570\n",
      "Epoch 7/7\n",
      "4384/4384 [==============================] - 1273s 290ms/step - loss: 0.1452 - acc: 0.9651 - val_loss: 0.2009 - val_acc: 0.9467\n"
     ]
    },
    {
     "data": {
      "text/plain": [
       "<keras.callbacks.History at 0x7f0791a145f8>"
      ]
     },
     "execution_count": 7,
     "metadata": {},
     "output_type": "execute_result"
    }
   ],
   "source": [
    "batch_size = 32\n",
    "model.fit(X, \n",
    "          Y.astype('int32'),\n",
    "          epochs = 7, \n",
    "          batch_size=64, \n",
    "          verbose = 1,\n",
    "          validation_split=0.1,\n",
    "          shuffle=True)"
   ]
  },
  {
   "cell_type": "code",
   "execution_count": 22,
   "metadata": {},
   "outputs": [
    {
     "data": {
      "text/plain": [
       "array([[ 0.96521139,  0.03478859],\n",
       "       [ 0.9962759 ,  0.00372411],\n",
       "       [ 0.95351911,  0.04648097],\n",
       "       [ 0.94095552,  0.05904449],\n",
       "       [ 0.96051413,  0.03948583],\n",
       "       [ 0.99263191,  0.00736807],\n",
       "       [ 0.98367554,  0.01632441],\n",
       "       [ 0.99592292,  0.00407704],\n",
       "       [ 0.91474634,  0.08525373],\n",
       "       [ 0.99637187,  0.00362819]], dtype=float32)"
      ]
     },
     "execution_count": 22,
     "metadata": {},
     "output_type": "execute_result"
    }
   ],
   "source": [
    "model.predict(X[3990:4000].reshape(10,-1))"
   ]
  }
 ],
 "metadata": {
  "_change_revision": 0,
  "_is_fork": false,
  "kernelspec": {
   "display_name": "Python 3",
   "language": "python",
   "name": "python3"
  },
  "language_info": {
   "codemirror_mode": {
    "name": "ipython",
    "version": 3
   },
   "file_extension": ".py",
   "mimetype": "text/x-python",
   "name": "python",
   "nbconvert_exporter": "python",
   "pygments_lexer": "ipython3",
   "version": "3.6.3"
  }
 },
 "nbformat": 4,
 "nbformat_minor": 1
}
