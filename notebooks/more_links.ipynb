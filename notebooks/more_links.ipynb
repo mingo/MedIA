{
 "cells": [
  {
   "cell_type": "markdown",
   "metadata": {},
   "source": [
    "# More Links Scraper\n",
    "This notebook scrapes data from the same website, but more categories (international, societe, etc.)"
   ]
  },
  {
   "cell_type": "code",
   "execution_count": 1,
   "metadata": {
    "collapsed": true
   },
   "outputs": [],
   "source": [
    "import requests\n",
    "from bs4 import BeautifulSoup\n",
    "from time import sleep"
   ]
  },
  {
   "cell_type": "code",
   "execution_count": null,
   "metadata": {},
   "outputs": [
    {
     "name": "stdout",
     "output_type": "stream",
     "text": [
      "10 pages completed.\n",
      "20 pages completed.\n",
      "30 pages completed.\n",
      "40 pages completed.\n",
      "50 pages completed.\n",
      "60 pages completed.\n",
      "70 pages completed.\n"
     ]
    }
   ],
   "source": [
    "soups = []\n",
    "\n",
    "categories = [\n",
    "    [\"http://www.medias-presse.info/category/international/\",402],\n",
    "    [\"http://www.medias-presse.info/category/societe/\",298],\n",
    "    [\"http://www.medias-presse.info/category/culture/\",112],    \n",
    "]\n",
    "\n",
    "counter = 0\n",
    "\n",
    "for category, max_n in categories:\n",
    "    for n in range(1,max_n):\n",
    "        r  = requests.get(category+\"page/{}/\".format(n))\n",
    "        data = r.text\n",
    "        soup = BeautifulSoup(data, \"lxml\")\n",
    "\n",
    "        soups.append(soup)\n",
    "        sleep(0.1)\n",
    "        \n",
    "        counter += 1\n",
    "        if counter % 10 == 0:\n",
    "            print(counter, \"pages completed.\")"
   ]
  },
  {
   "cell_type": "code",
   "execution_count": null,
   "metadata": {
    "collapsed": true
   },
   "outputs": [],
   "source": [
    "all_links = []\n",
    "\n",
    "for soup in soups:\n",
    "    ls = []\n",
    "\n",
    "    for link in soup.find_all('a'):\n",
    "        url = link.get('href')\n",
    "        x = url.split(\"/\")\n",
    "        if len(x) > 3:\n",
    "            last_value = x[-2]\n",
    "            last_value2 = x[-1]\n",
    "            \n",
    "            if last_value.isdigit():\n",
    "                last_value = int(last_value)\n",
    "                if last_value > 0 and last_value < 90000 and last_value2 != \"#comments\":\n",
    "                    ls.append(url)\n",
    "    \n",
    "    all_links.extend(ls)\n",
    "\n",
    "all_links = list(set(all_links))\n",
    "print(len(all_links))"
   ]
  },
  {
   "cell_type": "code",
   "execution_count": null,
   "metadata": {
    "collapsed": true
   },
   "outputs": [],
   "source": [
    "di_big = {\"id\":[], \"agency\": [], \"url\": [], \"title\": [], \"text\":[], \"author\":[]}\n",
    "counter = 0\n",
    "\n",
    "for link in all_links:\n",
    "    sleep(0.1)\n",
    "    r  = requests.get(link)\n",
    "    data = r.text\n",
    "    soup = BeautifulSoup(data, \"lxml\")\n",
    "\n",
    "    paragraphs_ls = []\n",
    "\n",
    "    for paragraph in soup.find_all('p', style=\"text-align: justify;\"):\n",
    "        paragraphs_ls.append(paragraph.text)\n",
    "\n",
    "    paragraphs = \"\\n\".join(paragraphs_ls)\n",
    "    \n",
    "    _id = link.split(\"/\")[-2]\n",
    "    author = soup.find('a', rel='author').text\n",
    "    title = soup.title.text\n",
    "    \n",
    "    if paragraphs != \"\":\n",
    "        di_big[\"id\"].append(_id)\n",
    "        di_big[\"agency\"].append(\"media-presse.info\")\n",
    "        di_big[\"url\"].append(link)\n",
    "        di_big[\"title\"].append(title)\n",
    "        di_big[\"text\"].append(paragraphs)\n",
    "        di_big[\"author\"].append(author)\n",
    "    \n",
    "    counter += 1\n",
    "    if counter%250==0:\n",
    "        print(counter, \"articles processed.\")"
   ]
  },
  {
   "cell_type": "code",
   "execution_count": null,
   "metadata": {
    "collapsed": true
   },
   "outputs": [],
   "source": [
    "df = pd.DataFrame.from_dict(di_big)\n",
    "print(df.shape)\n",
    "df.to_csv(\"fakenews_big2.csv\", index=False)"
   ]
  }
 ],
 "metadata": {
  "kernelspec": {
   "display_name": "Python 3",
   "language": "python",
   "name": "python3"
  },
  "language_info": {
   "codemirror_mode": {
    "name": "ipython",
    "version": 3
   },
   "file_extension": ".py",
   "mimetype": "text/x-python",
   "name": "python",
   "nbconvert_exporter": "python",
   "pygments_lexer": "ipython3",
   "version": "3.6.3"
  }
 },
 "nbformat": 4,
 "nbformat_minor": 2
}
