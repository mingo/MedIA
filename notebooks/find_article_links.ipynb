{
 "cells": [
  {
   "cell_type": "markdown",
   "metadata": {},
   "source": [
    "# Article Link Parser\n",
    "\n",
    "We scrape articles from a unreliable news source, and save it in a csv file."
   ]
  },
  {
   "cell_type": "code",
   "execution_count": null,
   "metadata": {},
   "outputs": [],
   "source": [
    "from bs4 import BeautifulSoup\n",
    "import requests\n",
    "\n",
    "from time import sleep\n",
    "import pandas as pd"
   ]
  },
  {
   "cell_type": "code",
   "execution_count": null,
   "metadata": {},
   "outputs": [],
   "source": [
    "all_links = []\n",
    "\n",
    "soups = []\n",
    "\n",
    "for n in range(1,295):\n",
    "    r  = requests.get(\"http://www.medias-presse.info/category/politique/page/{}/\".format(n))\n",
    "    data = r.text\n",
    "    soup = BeautifulSoup(data, \"lxml\")\n",
    "    \n",
    "    soups.append(soup)\n",
    "    sleep(0.2)"
   ]
  },
  {
   "cell_type": "markdown",
   "metadata": {},
   "source": [
    "Now, we create a soup of all the pages existing in the political section of the website."
   ]
  },
  {
   "cell_type": "code",
   "execution_count": null,
   "metadata": {},
   "outputs": [],
   "source": [
    "for soup in soups:\n",
    "    ls = []\n",
    "\n",
    "    for link in soup.find_all('a'):\n",
    "        url = link.get('href')\n",
    "        x = url.split(\"/\")\n",
    "        if len(x) > 3:\n",
    "            last_value = x[-2]\n",
    "            last_value2 = x[-1]\n",
    "            \n",
    "            if last_value.isdigit():\n",
    "                last_value = int(last_value)\n",
    "                if last_value > 0 and last_value < 90000 and last_value2 != \"#comments\":\n",
    "                    ls.append(url)\n",
    "    \n",
    "    all_links.extend(ls)\n",
    "    print(\"Page {} done.\".format(n))\n",
    "\n",
    "all_links = set(all_links)\n",
    "all_links = list(all_links)"
   ]
  },
  {
   "cell_type": "markdown",
   "metadata": {},
   "source": [
    "Now, we parse the soup and only keep author, url, title and text in a dictionary."
   ]
  },
  {
   "cell_type": "code",
   "execution_count": null,
   "metadata": {},
   "outputs": [],
   "source": [
    "di_big = {\"id\":[], \"agency\": [], \"url\": [], \"title\": [], \"text\":[], \"author\":[]}\n",
    "counter = 0\n",
    "\n",
    "for link in all_links:\n",
    "    sleep(0.1)\n",
    "    r  = requests.get(link)\n",
    "    data = r.text\n",
    "    soup = BeautifulSoup(data, \"lxml\")\n",
    "\n",
    "    paragraphs_ls = []\n",
    "\n",
    "    for paragraph in soup.find_all('p', style=\"text-align: justify;\"):\n",
    "        paragraphs_ls.append(paragraph.text)\n",
    "\n",
    "    paragraphs = \"\\n\".join(paragraphs_ls)\n",
    "    \n",
    "    _id = link.split(\"/\")[-2]\n",
    "    author = soup.find('a', rel='author').text\n",
    "    title = soup.title.text\n",
    "    \n",
    "    if paragraphs != \"\":\n",
    "        di_big[\"id\"].append(_id)\n",
    "        di_big[\"agency\"].append(\"media-presse.info\")\n",
    "        di_big[\"url\"].append(link)\n",
    "        di_big[\"title\"].append(title)\n",
    "        di_big[\"text\"].append(paragraphs)\n",
    "        di_big[\"author\"].append(author)"
   ]
  },
  {
   "cell_type": "code",
   "execution_count": null,
   "metadata": {},
   "outputs": [],
   "source": [
    "pd.DataFrame.from_dict(di_big).to_csv(\"fakenews_big.csv\", index=False)"
   ]
  }
 ],
 "metadata": {
  "kernelspec": {
   "display_name": "Python 3",
   "language": "python",
   "name": "python3"
  },
  "language_info": {
   "codemirror_mode": {
    "name": "ipython",
    "version": 3
   },
   "file_extension": ".py",
   "mimetype": "text/x-python",
   "name": "python",
   "nbconvert_exporter": "python",
   "pygments_lexer": "ipython3",
   "version": "3.6.3"
  }
 },
 "nbformat": 4,
 "nbformat_minor": 2
}
