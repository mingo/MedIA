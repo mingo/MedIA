{
 "cells": [
  {
   "cell_type": "markdown",
   "metadata": {},
   "source": [
    "# Algorithm function\n",
    "\n",
    "The algorithm function retrieves the trained algorithm and dictionaries, and generate prediction based on input. "
   ]
  },
  {
   "cell_type": "code",
   "execution_count": 42,
   "metadata": {
    "collapsed": true
   },
   "outputs": [],
   "source": [
    "import json\n",
    "import numpy as np\n",
    "import keras\n",
    "import keras.preprocessing.text as kpt\n",
    "from keras.preprocessing.text import Tokenizer\n",
    "from keras.models import model_from_json\n",
    "import tensorflow as tf"
   ]
  },
  {
   "cell_type": "code",
   "execution_count": 43,
   "metadata": {
    "collapsed": true
   },
   "outputs": [],
   "source": [
    "max_words = 5000\n",
    "\n",
    "# we're still going to use a Tokenizer here, but we don't need to fit it\n",
    "tokenizer = Tokenizer(num_words=max_words)\n",
    "# for human-friendly printing\n",
    "labels = ['negative', 'positive']\n",
    "\n",
    "# read in our saved dictionary\n",
    "with open('dictionary.json', 'r') as dictionary_file:\n",
    "    dictionary = json.load(dictionary_file)"
   ]
  },
  {
   "cell_type": "code",
   "execution_count": 44,
   "metadata": {
    "collapsed": true
   },
   "outputs": [],
   "source": [
    "# this utility makes sure that all the words in your input\n",
    "# are registered in the dictionary\n",
    "# before trying to turn them into a matrix.\n",
    "def convert_text_to_index_array(text):\n",
    "    words = kpt.text_to_word_sequence(text)\n",
    "    wordIndices = []\n",
    "    for word in words:\n",
    "        if word in dictionary:\n",
    "            wordIndices.append(dictionary[word])\n",
    "        else:\n",
    "            print(\"'%s' not in training corpus; ignoring.\" %(word))\n",
    "    return wordIndices\n",
    "\n",
    "# read in your saved model structure\n",
    "json_file = open('model.json', 'r')\n",
    "loaded_model_json = json_file.read()\n",
    "json_file.close()\n",
    "# and create a model from that\n",
    "model = model_from_json(loaded_model_json)\n",
    "# and weight your nodes with your saved values\n",
    "model.load_weights('model.h5')"
   ]
  },
  {
   "cell_type": "code",
   "execution_count": 45,
   "metadata": {
    "collapsed": true
   },
   "outputs": [],
   "source": [
    "def algorithm(evalSentence):\n",
    "    if len(evalSentence) == 0:\n",
    "        return (-1,-1)\n",
    "\n",
    "    testArr = convert_text_to_index_array(evalSentence)\n",
    "    data = tokenizer.sequences_to_matrix([testArr], mode='binary')\n",
    "    \n",
    "    pred = model.predict(data)\n",
    "    \n",
    "    result = [np.argmax(pred), pred[0][np.argmax(pred)]]\n",
    "    \n",
    "    return result"
   ]
  },
  {
   "cell_type": "markdown",
   "metadata": {},
   "source": [
    "Testing our function with a news article."
   ]
  },
  {
   "cell_type": "code",
   "execution_count": 46,
   "metadata": {
    "scrolled": true
   },
   "outputs": [
    {
     "name": "stdout",
     "output_type": "stream",
     "text": [
      "'scaglia' not in training corpus; ignoring.\n",
      "'economique' not in training corpus; ignoring.\n",
      "'cesec' not in training corpus; ignoring.\n",
      "'franceschi' not in training corpus; ignoring.\n",
      "'cesec' not in training corpus; ignoring.\n",
      "'scaglia' not in training corpus; ignoring.\n",
      "'scaglia' not in training corpus; ignoring.\n"
     ]
    },
    {
     "data": {
      "text/plain": [
       "[0, 0.99993765]"
      ]
     },
     "execution_count": 46,
     "metadata": {},
     "output_type": "execute_result"
    }
   ],
   "source": [
    "algorithm(\"\"\"Comme partout en France, la main-mise de la franc-maçonnerie sur la politique persiste en Corse. Le 1er mars 2018, Paul Scaglia, Grand Maître Provincial de la GLNF depuis 2010, a été élu président du Conseil Economique, Social, Environnemental et Culturel de Corse (CESEC) par 30 voix contre 28.\n",
    "\n",
    " \n",
    "\n",
    "Pour Henri Franceschi, qui était également candidat à la présidence du CESEC, il ne fait aucun doute que ce sont les réseaux maçonniques qui ont accordé le poste à Paul Scaglia.\n",
    "\n",
    "Auparavant, Paul Scaglia avait déjà mobilisé les mêmes réseaux maçonniques pour prendre la présidence du Tribunal de Commerce d’Ajaccio.\"\"\")"
   ]
  }
 ],
 "metadata": {
  "kernelspec": {
   "display_name": "Python 3",
   "language": "python",
   "name": "python3"
  },
  "language_info": {
   "codemirror_mode": {
    "name": "ipython",
    "version": 3
   },
   "file_extension": ".py",
   "mimetype": "text/x-python",
   "name": "python",
   "nbconvert_exporter": "python",
   "pygments_lexer": "ipython3",
   "version": "3.6.3"
  }
 },
 "nbformat": 4,
 "nbformat_minor": 2
}
